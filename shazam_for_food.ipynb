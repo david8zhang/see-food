{
 "cells": [
  {
   "cell_type": "code",
   "execution_count": 1,
   "metadata": {},
   "outputs": [],
   "source": [
    "from fastai.vision.all import *\n",
    "from fastai.vision.widgets import *"
   ]
  },
  {
   "cell_type": "markdown",
   "metadata": {},
   "source": [
    "# S-E-E Food. Shazam for Food"
   ]
  },
  {
   "cell_type": "markdown",
   "metadata": {},
   "source": [
    "Erick. This isa yo mom. And uh you are not my baby. \n",
    "\n",
    "Erick Bakman. Isa your refrigerator running? This is Mike Hunt.\n",
    "\n",
    "Erick Bakman. This isa you as a old man. I'm ugly and I'm dead. alone.\n",
    "\n",
    "----"
   ]
  },
  {
   "cell_type": "code",
   "execution_count": 2,
   "metadata": {},
   "outputs": [],
   "source": [
    "path = Path()\n",
    "learn_inf = load_learner(path/'export.pkl', cpu=True)\n",
    "btn_upload = widgets.FileUpload()\n",
    "out_pl = widgets.Output()\n",
    "lbl_pred = widgets.Label()"
   ]
  },
  {
   "cell_type": "code",
   "execution_count": 3,
   "metadata": {},
   "outputs": [],
   "source": [
    "def on_data_change(change):\n",
    "    lbl_pred.value = ''\n",
    "    img = PILImage.create(btn_upload.data[-1])\n",
    "    out_pl.clear_output()\n",
    "    with out_pl: display(img.to_thumb(128,128))\n",
    "    pred,pred_idx,probs = learn_inf.predict(img)\n",
    "    lbl_pred.value = f'Prediction: {pred}; Probability: {probs[pred_idx]:.04f}'"
   ]
  },
  {
   "cell_type": "code",
   "execution_count": 4,
   "metadata": {},
   "outputs": [],
   "source": [
    "btn_upload.observe(on_data_change, names=['data'])"
   ]
  },
  {
   "cell_type": "code",
   "execution_count": 5,
   "metadata": {
    "scrolled": false
   },
   "outputs": [
    {
     "data": {
      "application/vnd.jupyter.widget-view+json": {
       "model_id": "030697446bf04d5886af3f066a4770b4",
       "version_major": 2,
       "version_minor": 0
      },
      "text/plain": [
       "VBox(children=(Label(value='Take a picture of food'), FileUpload(value={}, description='Upload'), Output(), La…"
      ]
     },
     "metadata": {},
     "output_type": "display_data"
    }
   ],
   "source": [
    "display(VBox([widgets.Label('Take a picture of food'), btn_upload, out_pl, lbl_pred]))"
   ]
  },
  {
   "cell_type": "code",
   "execution_count": 8,
   "metadata": {},
   "outputs": [
    {
     "name": "stdout",
     "output_type": "stream",
     "text": [
      "Requirement already satisfied: voila in /Users/David/anaconda3/lib/python3.6/site-packages (0.2.2)\n",
      "Requirement already satisfied: jupyter-server<0.4.0,>=0.3.0 in /Users/David/anaconda3/lib/python3.6/site-packages (from voila) (0.3.0)\n",
      "Requirement already satisfied: nbclient<0.6,>=0.4.0 in /Users/David/.local/lib/python3.6/site-packages (from voila) (0.5.0)\n",
      "Requirement already satisfied: nbconvert<7,>=6.0.0 in /Users/David/anaconda3/lib/python3.6/site-packages (from voila) (6.0.6)\n",
      "Requirement already satisfied: jupyter-client<7,>=6.1.3 in /Users/David/.local/lib/python3.6/site-packages (from voila) (6.1.7)\n",
      "Requirement already satisfied: ipykernel in /Users/David/.local/lib/python3.6/site-packages (from jupyter-server<0.4.0,>=0.3.0->voila) (5.3.4)\n",
      "Requirement already satisfied: prometheus-client in /Users/David/.local/lib/python3.6/site-packages (from jupyter-server<0.4.0,>=0.3.0->voila) (0.8.0)\n",
      "Requirement already satisfied: Send2Trash in /Users/David/.local/lib/python3.6/site-packages (from jupyter-server<0.4.0,>=0.3.0->voila) (1.5.0)\n",
      "Requirement already satisfied: nbformat in /Users/David/.local/lib/python3.6/site-packages (from jupyter-server<0.4.0,>=0.3.0->voila) (5.0.7)\n",
      "Requirement already satisfied: traitlets>=4.2.1 in /Users/David/.local/lib/python3.6/site-packages (from jupyter-server<0.4.0,>=0.3.0->voila) (4.3.3)\n",
      "Requirement already satisfied: ipython-genutils in /Users/David/.local/lib/python3.6/site-packages (from jupyter-server<0.4.0,>=0.3.0->voila) (0.2.0)\n",
      "Requirement already satisfied: jinja2 in /Users/David/.local/lib/python3.6/site-packages (from jupyter-server<0.4.0,>=0.3.0->voila) (2.11.2)\n",
      "Requirement already satisfied: terminado>=0.8.3 in /Users/David/.local/lib/python3.6/site-packages (from jupyter-server<0.4.0,>=0.3.0->voila) (0.9.1)\n",
      "Requirement already satisfied: tornado>=5.0 in /Users/David/.local/lib/python3.6/site-packages (from jupyter-server<0.4.0,>=0.3.0->voila) (6.0.4)\n",
      "Requirement already satisfied: jupyter-core>=4.4.0 in /Users/David/.local/lib/python3.6/site-packages (from jupyter-server<0.4.0,>=0.3.0->voila) (4.6.3)\n",
      "Requirement already satisfied: pyzmq>=17 in /Users/David/.local/lib/python3.6/site-packages (from jupyter-server<0.4.0,>=0.3.0->voila) (19.0.2)\n",
      "Requirement already satisfied: nest-asyncio in /Users/David/.local/lib/python3.6/site-packages (from nbclient<0.6,>=0.4.0->voila) (1.4.0)\n",
      "Requirement already satisfied: async-generator in /Users/David/.local/lib/python3.6/site-packages (from nbclient<0.6,>=0.4.0->voila) (1.10)\n",
      "Requirement already satisfied: jupyterlab-pygments in /Users/David/.local/lib/python3.6/site-packages (from nbconvert<7,>=6.0.0->voila) (0.1.1)\n",
      "Requirement already satisfied: mistune<2,>=0.8.1 in /Users/David/.local/lib/python3.6/site-packages (from nbconvert<7,>=6.0.0->voila) (0.8.4)\n",
      "Requirement already satisfied: pygments>=2.4.1 in /Users/David/.local/lib/python3.6/site-packages (from nbconvert<7,>=6.0.0->voila) (2.7.1)\n",
      "Requirement already satisfied: defusedxml in /Users/David/.local/lib/python3.6/site-packages (from nbconvert<7,>=6.0.0->voila) (0.6.0)\n",
      "Requirement already satisfied: bleach in /Users/David/.local/lib/python3.6/site-packages (from nbconvert<7,>=6.0.0->voila) (3.2.1)\n",
      "Requirement already satisfied: entrypoints>=0.2.2 in /Users/David/.local/lib/python3.6/site-packages (from nbconvert<7,>=6.0.0->voila) (0.3)\n",
      "Requirement already satisfied: pandocfilters>=1.4.1 in /Users/David/.local/lib/python3.6/site-packages (from nbconvert<7,>=6.0.0->voila) (1.4.2)\n",
      "Requirement already satisfied: testpath in /Users/David/.local/lib/python3.6/site-packages (from nbconvert<7,>=6.0.0->voila) (0.4.4)\n",
      "Requirement already satisfied: python-dateutil>=2.1 in /Users/David/.local/lib/python3.6/site-packages (from jupyter-client<7,>=6.1.3->voila) (2.8.1)\n",
      "Requirement already satisfied: ipython>=5.0.0 in /Users/David/.local/lib/python3.6/site-packages (from ipykernel->jupyter-server<0.4.0,>=0.3.0->voila) (7.16.1)\n",
      "Requirement already satisfied: appnope; platform_system == \"Darwin\" in /Users/David/.local/lib/python3.6/site-packages (from ipykernel->jupyter-server<0.4.0,>=0.3.0->voila) (0.1.0)\n",
      "Requirement already satisfied: jsonschema!=2.5.0,>=2.4 in /Users/David/.local/lib/python3.6/site-packages (from nbformat->jupyter-server<0.4.0,>=0.3.0->voila) (3.2.0)\n",
      "Requirement already satisfied: decorator in /Users/David/.local/lib/python3.6/site-packages (from traitlets>=4.2.1->jupyter-server<0.4.0,>=0.3.0->voila) (4.4.2)\n",
      "Requirement already satisfied: six in /Users/David/.local/lib/python3.6/site-packages (from traitlets>=4.2.1->jupyter-server<0.4.0,>=0.3.0->voila) (1.15.0)\n",
      "Requirement already satisfied: MarkupSafe>=0.23 in /Users/David/.local/lib/python3.6/site-packages (from jinja2->jupyter-server<0.4.0,>=0.3.0->voila) (1.1.1)\n",
      "Requirement already satisfied: ptyprocess; os_name != \"nt\" in /Users/David/.local/lib/python3.6/site-packages (from terminado>=0.8.3->jupyter-server<0.4.0,>=0.3.0->voila) (0.6.0)\n",
      "Requirement already satisfied: webencodings in /Users/David/.local/lib/python3.6/site-packages (from bleach->nbconvert<7,>=6.0.0->voila) (0.5.1)\n",
      "Requirement already satisfied: packaging in /Users/David/.local/lib/python3.6/site-packages (from bleach->nbconvert<7,>=6.0.0->voila) (20.4)\n",
      "Requirement already satisfied: prompt-toolkit!=3.0.0,!=3.0.1,<3.1.0,>=2.0.0 in /Users/David/.local/lib/python3.6/site-packages (from ipython>=5.0.0->ipykernel->jupyter-server<0.4.0,>=0.3.0->voila) (3.0.7)\n",
      "Requirement already satisfied: pickleshare in /Users/David/.local/lib/python3.6/site-packages (from ipython>=5.0.0->ipykernel->jupyter-server<0.4.0,>=0.3.0->voila) (0.7.5)\n",
      "Requirement already satisfied: setuptools>=18.5 in /Users/David/.local/lib/python3.6/site-packages (from ipython>=5.0.0->ipykernel->jupyter-server<0.4.0,>=0.3.0->voila) (50.3.0)\n",
      "Requirement already satisfied: backcall in /Users/David/.local/lib/python3.6/site-packages (from ipython>=5.0.0->ipykernel->jupyter-server<0.4.0,>=0.3.0->voila) (0.2.0)\n",
      "Requirement already satisfied: pexpect; sys_platform != \"win32\" in /Users/David/.local/lib/python3.6/site-packages (from ipython>=5.0.0->ipykernel->jupyter-server<0.4.0,>=0.3.0->voila) (4.8.0)\n",
      "Requirement already satisfied: jedi>=0.10 in /Users/David/.local/lib/python3.6/site-packages (from ipython>=5.0.0->ipykernel->jupyter-server<0.4.0,>=0.3.0->voila) (0.17.2)\n",
      "Requirement already satisfied: attrs>=17.4.0 in /Users/David/.local/lib/python3.6/site-packages (from jsonschema!=2.5.0,>=2.4->nbformat->jupyter-server<0.4.0,>=0.3.0->voila) (20.2.0)\n",
      "Requirement already satisfied: importlib-metadata; python_version < \"3.8\" in /Users/David/.local/lib/python3.6/site-packages (from jsonschema!=2.5.0,>=2.4->nbformat->jupyter-server<0.4.0,>=0.3.0->voila) (1.7.0)\n",
      "Requirement already satisfied: pyrsistent>=0.14.0 in /Users/David/.local/lib/python3.6/site-packages (from jsonschema!=2.5.0,>=2.4->nbformat->jupyter-server<0.4.0,>=0.3.0->voila) (0.17.3)\n",
      "Requirement already satisfied: pyparsing>=2.0.2 in /Users/David/.local/lib/python3.6/site-packages (from packaging->bleach->nbconvert<7,>=6.0.0->voila) (2.4.7)\n",
      "Requirement already satisfied: wcwidth in /Users/David/.local/lib/python3.6/site-packages (from prompt-toolkit!=3.0.0,!=3.0.1,<3.1.0,>=2.0.0->ipython>=5.0.0->ipykernel->jupyter-server<0.4.0,>=0.3.0->voila) (0.2.5)\n",
      "Requirement already satisfied: parso<0.8.0,>=0.7.0 in /Users/David/.local/lib/python3.6/site-packages (from jedi>=0.10->ipython>=5.0.0->ipykernel->jupyter-server<0.4.0,>=0.3.0->voila) (0.7.1)\n",
      "Requirement already satisfied: zipp>=0.5 in /Users/David/.local/lib/python3.6/site-packages (from importlib-metadata; python_version < \"3.8\"->jsonschema!=2.5.0,>=2.4->nbformat->jupyter-server<0.4.0,>=0.3.0->voila) (3.1.0)\n",
      "Enabling: voila\n",
      "- Writing config: /Users/David/anaconda3/etc/jupyter\n",
      "    - Validating...\n",
      "      voila 0.2.2 \u001b[32mOK\u001b[0m\n"
     ]
    }
   ],
   "source": [
    "!pip install voila\n",
    "!jupyter serverextension enable voila --sys-prefix"
   ]
  },
  {
   "cell_type": "code",
   "execution_count": null,
   "metadata": {},
   "outputs": [],
   "source": []
  }
 ],
 "metadata": {
  "jupytext": {
   "split_at_heading": true
  },
  "kernelspec": {
   "display_name": "Python 3",
   "language": "python",
   "name": "python3"
  },
  "language_info": {
   "codemirror_mode": {
    "name": "ipython",
    "version": 3
   },
   "file_extension": ".py",
   "mimetype": "text/x-python",
   "name": "python",
   "nbconvert_exporter": "python",
   "pygments_lexer": "ipython3",
   "version": "3.6.12"
  },
  "toc": {
   "base_numbering": 1,
   "nav_menu": {},
   "number_sections": false,
   "sideBar": true,
   "skip_h1_title": true,
   "title_cell": "Table of Contents",
   "title_sidebar": "Contents",
   "toc_cell": false,
   "toc_position": {},
   "toc_section_display": true,
   "toc_window_display": false
  }
 },
 "nbformat": 4,
 "nbformat_minor": 2
}
